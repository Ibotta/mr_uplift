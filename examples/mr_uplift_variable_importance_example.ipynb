{
 "cells": [
  {
   "cell_type": "markdown",
   "metadata": {},
   "source": [
    "### Intro \n",
    "This notebook will go over variable importance metrics for uplift models. It will go over:\n",
    "\n",
    "- Data Generating Process\n",
    "- Model Building \n",
    "- Variable Importance Metric \n",
    "\n",
    "For an introduction on uplift models please see [example on single responses](https://github.com/Ibotta/ibotta_uplift/blob/master/examples/ibotta_uplift_multiple_response_example.ipynb)\n",
    "\n",
    "\n",
    "### Data Generating Process\n",
    "\n",
    "Below is the data generating process of the data we have.\n",
    "\n",
    "\\begin{equation}\n",
    "x_1  \\sim runif(0,1)\n",
    "\\end{equation}\n",
    "\n",
    "\\begin{equation}\n",
    "x_2 \\sim runif(0,1)\n",
    "\\end{equation}\n",
    "\n",
    "\\begin{equation}\n",
    "x_3 \\sim runif(0,1)\n",
    "\\end{equation}\n",
    "\n",
    "\n",
    "\\begin{equation}\n",
    "e_1 \\sim rnorm(0,1)\n",
    "\\end{equation}\n",
    "\n",
    "\\begin{equation}\n",
    "e_2 \\sim rnorm(0,1)\n",
    "\\end{equation}\n",
    "\n",
    "\\begin{equation}\n",
    "t \\sim rbinom(.5)\n",
    "\\end{equation}\n",
    "\n",
    "\\begin{equation}\n",
    "noise \\sim rnorm(0,1)\n",
    "\\end{equation}\n",
    "\n",
    "\\begin{equation}\n",
    "revenue = x_1*t + e_1\n",
    "\\end{equation}\n",
    "\n",
    "\\begin{equation}\n",
    "costs = x_2*t + e_2\n",
    "\\end{equation}\n",
    "\n",
    "\\begin{equation}\n",
    "profit = revenue - costs\n",
    "\\end{equation}\n",
    "\n",
    "\n"
   ]
  },
  {
   "cell_type": "code",
   "execution_count": 1,
   "metadata": {},
   "outputs": [
    {
     "name": "stderr",
     "output_type": "stream",
     "text": [
      "/Users/samweiss/anaconda3/lib/python3.6/site-packages/h5py/__init__.py:34: FutureWarning: Conversion of the second argument of issubdtype from `float` to `np.floating` is deprecated. In future, it will be treated as `np.float64 == np.dtype(float).type`.\n",
      "  from ._conv import register_converters as _register_converters\n",
      "Using TensorFlow backend.\n",
      "/Users/samweiss/anaconda3/lib/python3.6/site-packages/tensorflow/python/framework/dtypes.py:458: FutureWarning: Passing (type, 1) or '1type' as a synonym of type is deprecated; in a future version of numpy, it will be understood as (type, (1,)) / '(1,)type'.\n",
      "  _np_qint8 = np.dtype([(\"qint8\", np.int8, 1)])\n",
      "/Users/samweiss/anaconda3/lib/python3.6/site-packages/tensorflow/python/framework/dtypes.py:459: FutureWarning: Passing (type, 1) or '1type' as a synonym of type is deprecated; in a future version of numpy, it will be understood as (type, (1,)) / '(1,)type'.\n",
      "  _np_quint8 = np.dtype([(\"quint8\", np.uint8, 1)])\n",
      "/Users/samweiss/anaconda3/lib/python3.6/site-packages/tensorflow/python/framework/dtypes.py:460: FutureWarning: Passing (type, 1) or '1type' as a synonym of type is deprecated; in a future version of numpy, it will be understood as (type, (1,)) / '(1,)type'.\n",
      "  _np_qint16 = np.dtype([(\"qint16\", np.int16, 1)])\n",
      "/Users/samweiss/anaconda3/lib/python3.6/site-packages/tensorflow/python/framework/dtypes.py:461: FutureWarning: Passing (type, 1) or '1type' as a synonym of type is deprecated; in a future version of numpy, it will be understood as (type, (1,)) / '(1,)type'.\n",
      "  _np_quint16 = np.dtype([(\"quint16\", np.uint16, 1)])\n",
      "/Users/samweiss/anaconda3/lib/python3.6/site-packages/tensorflow/python/framework/dtypes.py:462: FutureWarning: Passing (type, 1) or '1type' as a synonym of type is deprecated; in a future version of numpy, it will be understood as (type, (1,)) / '(1,)type'.\n",
      "  _np_qint32 = np.dtype([(\"qint32\", np.int32, 1)])\n",
      "/Users/samweiss/anaconda3/lib/python3.6/site-packages/tensorflow/python/framework/dtypes.py:465: FutureWarning: Passing (type, 1) or '1type' as a synonym of type is deprecated; in a future version of numpy, it will be understood as (type, (1,)) / '(1,)type'.\n",
      "  np_resource = np.dtype([(\"resource\", np.ubyte, 1)])\n",
      "/Users/samweiss/anaconda3/lib/python3.6/site-packages/ggplot/utils.py:81: FutureWarning: pandas.tslib is deprecated and will be removed in a future version.\n",
      "You can access Timestamp as pandas.Timestamp\n",
      "  pd.tslib.Timestamp,\n",
      "/Users/samweiss/anaconda3/lib/python3.6/site-packages/ggplot/stats/smoothers.py:4: FutureWarning: The pandas.lib module is deprecated and will be removed in a future version. These are private functions and can be accessed from pandas._libs.lib instead\n",
      "  from pandas.lib import Timestamp\n",
      "/Users/samweiss/anaconda3/lib/python3.6/site-packages/statsmodels/compat/pandas.py:56: FutureWarning: The pandas.core.datetools module is deprecated and will be removed in a future version. Please use the pandas.tseries module instead.\n",
      "  from pandas.core import datetools\n"
     ]
    }
   ],
   "source": [
    "import numpy as np\n",
    "import pandas as pd\n",
    "\n",
    "from mr_uplift.dataset.data_simulation import get_simple_uplift_data\n",
    "from mr_uplift.mr_uplift import MRUplift\n",
    "from ggplot import *\n",
    "\n",
    "num_obs = 10000\n",
    "y, x, t = get_simple_uplift_data(num_obs)\n",
    "\n",
    "y = pd.DataFrame(y)\n",
    "y.columns = ['revenue','cost', 'noise']\n",
    "y['profit'] = y['revenue'] - y['cost']\n",
    "\n",
    "\n",
    "#include noise explanatory variable\n",
    "x = pd.DataFrame(x)\n",
    "x.columns = ['x_1', 'x_2']\n",
    "x['x_3'] = np.random.normal(0, 1, num_obs)\n",
    "\n",
    "\n"
   ]
  },
  {
   "cell_type": "code",
   "execution_count": 2,
   "metadata": {
    "collapsed": true
   },
   "outputs": [],
   "source": [
    "#build model\n",
    "uplift_model = MRUplift()\n",
    "param_grid = dict(num_nodes=[8], dropout=[.1,.5], activation=[\n",
    "                          'relu'], num_layers=[1,2], epochs=[25], batch_size=[30])\n",
    "uplift_model.fit(x, y, t.reshape(-1,1), param_grid = param_grid, n_jobs = 1)\n",
    "\n"
   ]
  },
  {
   "cell_type": "markdown",
   "metadata": {},
   "source": [
    "### Variable Importance Uplift\n",
    "\n",
    "The variable importance metrice described here is a variation on permutation importance; shuffle a column and measure how much the output disagrees with output of the original data. \n",
    "\n",
    "Continuing the notation from the [multiple response example](https://github.com/Ibotta/ibotta_uplift/blob/master/examples/ibotta_uplift_multiple_response_example.ipynb) we have policy assignment $\\pi(x_i, W)$ as a function of weights $W$, explanatory variables $X$, and estimated model $E[]$. \n",
    "\n",
    "\n",
    "\\begin{equation}\n",
    "    \\pi(x_i, W) =argmax \\:_{t \\in T} \\sum_j w_j *E[y_{j,i} | X=x_i, T=t]\n",
    "\\end{equation}\n",
    "\n",
    "\n",
    "To obtain a variable importance for a particular explanatory variable $p$ a permutation is performed on that column and a new dataset for each user is generated $x_{i,permuted_p}$. The variable importance is a disagreement between original decision for all $n$ observations :\n",
    "\n",
    "\n",
    "\\begin{equation}\n",
    "   variableimportance_p = 1 -  1/n \\sum_{i=1}^{n} I(\\pi(x_i, W) = \\pi(x_{i,permuted_p}, W))\n",
    "\\end{equation}\n",
    "\n",
    "Intuitively, if the decisions of the permuted data is the same as the unpermuted data then we can conclude it is not an important variable. Alternatively, if the decisions are very different then we can conclude that variable is very important. \n",
    "\n",
    "Below is the variable importance from the fitted model. Note that the noise variable $x_3$ has very low importance relative to the other two. This makes sense since $x_3$ does not effect the response variables. \n",
    "\n"
   ]
  },
  {
   "cell_type": "code",
   "execution_count": 3,
   "metadata": {},
   "outputs": [
    {
     "data": {
      "text/html": [
       "<div>\n",
       "<style scoped>\n",
       "    .dataframe tbody tr th:only-of-type {\n",
       "        vertical-align: middle;\n",
       "    }\n",
       "\n",
       "    .dataframe tbody tr th {\n",
       "        vertical-align: top;\n",
       "    }\n",
       "\n",
       "    .dataframe thead th {\n",
       "        text-align: right;\n",
       "    }\n",
       "</style>\n",
       "<table border=\"1\" class=\"dataframe\">\n",
       "  <thead>\n",
       "    <tr style=\"text-align: right;\">\n",
       "      <th></th>\n",
       "      <th>permuation_varimp_metric</th>\n",
       "      <th>var_names</th>\n",
       "    </tr>\n",
       "  </thead>\n",
       "  <tbody>\n",
       "    <tr>\n",
       "      <th>0</th>\n",
       "      <td>0.375714</td>\n",
       "      <td>x_1</td>\n",
       "    </tr>\n",
       "    <tr>\n",
       "      <th>1</th>\n",
       "      <td>0.234571</td>\n",
       "      <td>x_2</td>\n",
       "    </tr>\n",
       "    <tr>\n",
       "      <th>2</th>\n",
       "      <td>0.005429</td>\n",
       "      <td>x_3</td>\n",
       "    </tr>\n",
       "  </tbody>\n",
       "</table>\n",
       "</div>"
      ],
      "text/plain": [
       "   permuation_varimp_metric var_names\n",
       "0                  0.375714       x_1\n",
       "1                  0.234571       x_2\n",
       "2                  0.005429       x_3"
      ]
     },
     "execution_count": 3,
     "metadata": {},
     "output_type": "execute_result"
    }
   ],
   "source": [
    "uplift_model.permutation_varimp(weights = np.array([.6,-.4,0,0]).reshape(1,-1))"
   ]
  },
  {
   "cell_type": "code",
   "execution_count": null,
   "metadata": {
    "collapsed": true
   },
   "outputs": [],
   "source": []
  }
 ],
 "metadata": {
  "kernelspec": {
   "display_name": "Python 3",
   "language": "python",
   "name": "python3"
  },
  "language_info": {
   "codemirror_mode": {
    "name": "ipython",
    "version": 3
   },
   "file_extension": ".py",
   "mimetype": "text/x-python",
   "name": "python",
   "nbconvert_exporter": "python",
   "pygments_lexer": "ipython3",
   "version": "3.6.3"
  }
 },
 "nbformat": 4,
 "nbformat_minor": 2
}
