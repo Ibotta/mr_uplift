{
 "cells": [
  {
   "cell_type": "code",
   "execution_count": 1,
   "metadata": {},
   "outputs": [
    {
     "name": "stdout",
     "output_type": "stream",
     "text": [
      "/Users/samweiss/src/ibotta_uplift\n"
     ]
    }
   ],
   "source": [
    "cd ..\n"
   ]
  },
  {
   "cell_type": "code",
   "execution_count": 27,
   "metadata": {},
   "outputs": [],
   "source": [
    "import numpy as np\n",
    "import pandas as pd\n",
    "\n",
    "from dataset.data_simulation import get_simple_uplift_data\n",
    "from ibotta_uplift.ibotta_uplift import IbottaUplift\n",
    "from ggplot import *\n"
   ]
  },
  {
   "cell_type": "code",
   "execution_count": 28,
   "metadata": {
    "collapsed": true
   },
   "outputs": [],
   "source": [
    "y, x, t = get_simple_uplift_data(10000)\n",
    "\n",
    "y = pd.DataFrame(y)\n",
    "y.columns = ['revenue','cost', 'noise']\n",
    "y['profit'] = y['revenue'] - y['cost']"
   ]
  },
  {
   "cell_type": "code",
   "execution_count": null,
   "metadata": {
    "scrolled": true
   },
   "outputs": [
    {
     "name": "stderr",
     "output_type": "stream",
     "text": [
      "/Users/samweiss/anaconda3/lib/python3.6/site-packages/sklearn/utils/validation.py:475: DataConversionWarning: Data with input dtype int64 was converted to float64 by StandardScaler.\n",
      "  warnings.warn(msg, DataConversionWarning)\n"
     ]
    }
   ],
   "source": [
    "uplift_model = IbottaUplift()\n",
    "param_grid = dict(num_nodes=[8], dropout=[.1, .5], activation=[\n",
    "                          'relu'], num_layers=[1, 2], epochs=[25], batch_size=[30])\n",
    "\n",
    "uplift_model.fit(x, y, t.reshape(-1,1), param_grid = param_grid, n_jobs = 1)"
   ]
  },
  {
   "cell_type": "code",
   "execution_count": null,
   "metadata": {},
   "outputs": [],
   "source": [
    "erupt_curves, dists = uplift_model.get_erupt_curves()"
   ]
  },
  {
   "cell_type": "code",
   "execution_count": null,
   "metadata": {},
   "outputs": [],
   "source": [
    "dists['weights_1'] = [np.float(x.split(',')[0]) for x in dists['weights']]\n",
    "erupt_curves['weights_1'] = [np.float(x.split(',')[0]) for x in erupt_curves['weights']]\n",
    "ggplot(aes(x='weights_1', y='mean', group = 'assignment', colour = 'assignment'), data=erupt_curves) +\\\n",
    "    geom_line()+\\\n",
    "    geom_point()+facet_wrap(\"response_var_names\")"
   ]
  },
  {
   "cell_type": "code",
   "execution_count": null,
   "metadata": {},
   "outputs": [],
   "source": [
    "ggplot(aes(x='weights_1', y='num_observations'), data=dists) +\\\n",
    "    geom_line()+\\\n",
    "    geom_point()+facet_wrap('tmt')"
   ]
  },
  {
   "cell_type": "code",
   "execution_count": null,
   "metadata": {},
   "outputs": [],
   "source": [
    "uplift_model.calibrate()\n"
   ]
  },
  {
   "cell_type": "code",
   "execution_count": null,
   "metadata": {},
   "outputs": [],
   "source": [
    "erupt_curves, dists = uplift_model.get_erupt_curves(calibrator = True)\n",
    "dists['weights_1'] = [np.float(x.split(',')[0]) for x in dists['weights']]\n",
    "erupt_curves['weights_1'] = [np.float(x.split(',')[0]) for x in erupt_curves['weights']]\n",
    "ggplot(aes(x='weights_1', y='mean', group = 'assignment', colour = 'assignment'), data=erupt_curves) +\\\n",
    "    geom_line()+\\\n",
    "    geom_point()+facet_wrap(\"response_var_names\")"
   ]
  },
  {
   "cell_type": "code",
   "execution_count": 21,
   "metadata": {},
   "outputs": [
    {
     "data": {
      "text/plain": [
       "(10000, 2)"
      ]
     },
     "execution_count": 21,
     "metadata": {},
     "output_type": "execute_result"
    }
   ],
   "source": [
    "test  = uplift_model.copy()\n",
    "test.x.shape\n"
   ]
  },
  {
   "cell_type": "code",
   "execution_count": 26,
   "metadata": {},
   "outputs": [
    {
     "ename": "FileNotFoundError",
     "evalue": "[Errno 2] No such file or directory: '/users/samweiss/temp/ibotta_uplift_class.pkl'",
     "output_type": "error",
     "traceback": [
      "\u001b[0;31m---------------------------------------------------------------------------\u001b[0m",
      "\u001b[0;31mFileNotFoundError\u001b[0m                         Traceback (most recent call last)",
      "\u001b[0;32m<ipython-input-26-fd5c3baf0d26>\u001b[0m in \u001b[0;36m<module>\u001b[0;34m()\u001b[0m\n\u001b[0;32m----> 1\u001b[0;31m \u001b[0muplift_model\u001b[0m\u001b[0;34m.\u001b[0m\u001b[0msave\u001b[0m\u001b[0;34m(\u001b[0m\u001b[0;34m'/users/samweiss/temp'\u001b[0m\u001b[0;34m)\u001b[0m\u001b[0;34m\u001b[0m\u001b[0m\n\u001b[0m",
      "\u001b[0;32m~/src/ibotta_uplift/ibotta_uplift/ibotta_uplift.py\u001b[0m in \u001b[0;36msave\u001b[0;34m(self, file_location)\u001b[0m\n\u001b[1;32m    268\u001b[0m \u001b[0;34m\u001b[0m\u001b[0m\n\u001b[1;32m    269\u001b[0m \u001b[0;34m\u001b[0m\u001b[0m\n\u001b[0;32m--> 270\u001b[0;31m         \u001b[0mdill\u001b[0m\u001b[0;34m.\u001b[0m\u001b[0mdump\u001b[0m\u001b[0;34m(\u001b[0m\u001b[0muplift_class_copy\u001b[0m\u001b[0;34m,\u001b[0m \u001b[0mfile\u001b[0m \u001b[0;34m=\u001b[0m \u001b[0mopen\u001b[0m\u001b[0;34m(\u001b[0m\u001b[0mfile_location\u001b[0m \u001b[0;34m+\u001b[0m \u001b[0;34m'/ibotta_uplift_class.pkl'\u001b[0m\u001b[0;34m,\u001b[0m \u001b[0;34m\"wb\"\u001b[0m\u001b[0;34m)\u001b[0m\u001b[0;34m)\u001b[0m\u001b[0;34m\u001b[0m\u001b[0m\n\u001b[0m\u001b[1;32m    271\u001b[0m \u001b[0;34m\u001b[0m\u001b[0m\n\u001b[1;32m    272\u001b[0m         \u001b[0mmodel\u001b[0m\u001b[0;34m.\u001b[0m\u001b[0msave\u001b[0m\u001b[0;34m(\u001b[0m\u001b[0mfile_location\u001b[0m \u001b[0;34m+\u001b[0m \u001b[0;34m'/ibotta_uplift_model.h5'\u001b[0m\u001b[0;34m)\u001b[0m\u001b[0;34m\u001b[0m\u001b[0m\n",
      "\u001b[0;31mFileNotFoundError\u001b[0m: [Errno 2] No such file or directory: '/users/samweiss/temp/ibotta_uplift_class.pkl'"
     ]
    }
   ],
   "source": [
    "uplift_model.save('/users/samweiss/temp')"
   ]
  },
  {
   "cell_type": "code",
   "execution_count": 23,
   "metadata": {},
   "outputs": [
    {
     "data": {
      "text/plain": [
       "<ibotta_uplift.ibotta_uplift.IbottaUplift at 0x128a33278>"
      ]
     },
     "execution_count": 23,
     "metadata": {},
     "output_type": "execute_result"
    }
   ],
   "source": [
    "test = IbottaUplift()\n",
    "test.load('/users/samweiss/')\n",
    "test"
   ]
  },
  {
   "cell_type": "code",
   "execution_count": 24,
   "metadata": {},
   "outputs": [
    {
     "data": {
      "text/plain": [
       "array([[0.78060603, 0.4817593 ],\n",
       "       [0.34065289, 0.15929436],\n",
       "       [0.19596946, 0.16828371],\n",
       "       ...,\n",
       "       [0.33434548, 0.07010037],\n",
       "       [0.88742743, 0.15125775],\n",
       "       [0.41579423, 0.38199395]])"
      ]
     },
     "execution_count": 24,
     "metadata": {},
     "output_type": "execute_result"
    }
   ],
   "source": [
    "test.x"
   ]
  },
  {
   "cell_type": "code",
   "execution_count": 36,
   "metadata": {},
   "outputs": [
    {
     "data": {
      "text/plain": [
       "array([[0.23260872, 0.26564861],\n",
       "       [0.90174874, 0.53831439],\n",
       "       [0.15531573, 0.85931222],\n",
       "       ...,\n",
       "       [0.65635404, 0.4829386 ],\n",
       "       [0.03263312, 0.65077151],\n",
       "       [0.70547124, 0.9619202 ]])"
      ]
     },
     "execution_count": 36,
     "metadata": {},
     "output_type": "execute_result"
    }
   ],
   "source": []
  },
  {
   "cell_type": "code",
   "execution_count": null,
   "metadata": {},
   "outputs": [],
   "source": [
    "uplift_model.copy().model == uplift_model.model"
   ]
  },
  {
   "cell_type": "code",
   "execution_count": null,
   "metadata": {},
   "outputs": [],
   "source": [
    "import copy\n",
    "test_copy = copy.copy(uplift_model)\n"
   ]
  },
  {
   "cell_type": "code",
   "execution_count": null,
   "metadata": {},
   "outputs": [],
   "source": [
    "class test_class(object):\n",
    "    def fit(self, x):\n",
    "        self.x = x\n",
    "test = test_class()\n",
    "test.fit(1)\n",
    "test.x\n",
    "\n",
    "\n",
    "import dill\n",
    "dill.dump(test, file = open('/users/samweiss/downloads/test_load.pkl', \"wb\"))\n",
    "test_load = dill.load(open('/users/samweiss/downloads/test_load.pkl', \"rb\"))\n",
    "test_load.x"
   ]
  },
  {
   "cell_type": "code",
   "execution_count": null,
   "metadata": {},
   "outputs": [],
   "source": [
    "import dill\n",
    "dill.dump(test, file = open('/users/samweiss/downloads/test_load.pkl', \"wb\"))\n",
    "test_load = dill.load(open('/users/samweiss/downloads/test_load.pkl', \"rb\"))\n",
    "test_load.x"
   ]
  },
  {
   "cell_type": "code",
   "execution_count": null,
   "metadata": {
    "collapsed": true
   },
   "outputs": [],
   "source": []
  },
  {
   "cell_type": "code",
   "execution_count": null,
   "metadata": {
    "collapsed": true
   },
   "outputs": [],
   "source": []
  },
  {
   "cell_type": "code",
   "execution_count": null,
   "metadata": {
    "collapsed": true
   },
   "outputs": [],
   "source": []
  }
 ],
 "metadata": {
  "kernelspec": {
   "display_name": "Python 3",
   "language": "python",
   "name": "python3"
  },
  "language_info": {
   "codemirror_mode": {
    "name": "ipython",
    "version": 3
   },
   "file_extension": ".py",
   "mimetype": "text/x-python",
   "name": "python",
   "nbconvert_exporter": "python",
   "pygments_lexer": "ipython3",
   "version": "3.6.3"
  }
 },
 "nbformat": 4,
 "nbformat_minor": 2
}
