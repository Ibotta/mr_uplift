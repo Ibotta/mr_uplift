{
 "cells": [
  {
   "cell_type": "markdown",
   "metadata": {},
   "source": [
    "## Introduction \n",
    "\n",
    "This notebook will go over optimization of a single response variable using the MRUplift Framework. It will go over:\n",
    "\n",
    "1. The Business Problem and Data Generating Process\n",
    "\n",
    "2. Building / Gridsearching an uplift model \n",
    "\n",
    "3. Evaluating Model with out-of-sample ERUPT metric\n",
    "\n",
    "4. Assigning Optimal Treatments for new observations "
   ]
  },
  {
   "cell_type": "code",
   "execution_count": 2,
   "metadata": {},
   "outputs": [],
   "source": [
    "import numpy as np\n",
    "import pandas as pd\n",
    "\n",
    "from mr_uplift.dataset.data_simulation import get_simple_uplift_data\n",
    "from mr_uplift.mr_uplift import MRUplift\n",
    "#from ggplot import *"
   ]
  },
  {
   "cell_type": "markdown",
   "metadata": {},
   "source": [
    "\n"
   ]
  },
  {
   "cell_type": "markdown",
   "metadata": {},
   "source": [
    "### Business Problem\n",
    "\n",
    "Imagine we are data scientists working for a startup that would like to be more profitibile. As a tactic to increase user activity the company gives all users an expensive bonus (referred to as the treatment). In order to reduce costs we were assigned the task of using data to find a subset of users that should continue receiving the costly treatment. \n",
    "\n",
    "We are given explanatory variables for users $X$, a random treatment of whether a users recieved the treatment or not $T$, and response variable of profitibility $y$. \n",
    "\n",
    "We can use uplift models and the IbottaUplift package specifically to find users\n",
    "who should receive the treatment.\n",
    "\n",
    "### Uplift Problem Setup\n",
    "The general setup for a lift model is:\n",
    "    \n",
    "$y$: Response variable of interest you’d like to maximize. Here it is profitibility.\n",
    "\n",
    "$X$: User level covariates. Includes things like previous activity per user.\n",
    "\n",
    "$T$: The randomly assigned treatment. In this case it is whether or not to give a bonus to a particular user and is binary. Assume that the distribution and assignment of a treatment is uniform and random.\n",
    "\n",
    "With the data $(y, X, T)$ the goal is to build a treatment assignment policy 𝜋(x) that will use $X$ to assign $T$ that maximizes the value of $y$. Or in this case we want to use user history to assign whether to give a bonus to a user in order to maximize profit.\n",
    "\n",
    "A frequent practice is to model the expected outcome $y_i$ under different treatments and choose the treatment $T$ that maximizes $y_i$ for each user.\n",
    "\n",
    "\n",
    "\\begin{equation}\n",
    " \\pi(x_i) =argmax \\:_{t \\in T} E[y_i | X=x_i, T=t]\n",
    "\\end{equation}\n",
    "\n",
    "\n",
    "There are several approaches to do this and can be done with a run of the mill ML algorithm that incorporates interactions. IbottaUplift uses a neural network. \n",
    "\n",
    "To get the counterfactual for each treatment one needs to predict with different values of $t$. This calculation is closely related to to creating an [ICE](https://arxiv.org/pdf/1309.6392.pdf) plot with the treatment variable.\n",
    "\n",
    "### Data Generating Process \n",
    "\n",
    "\n",
    "Below is the data generating process of the data we are given. \n",
    "\n",
    "\\begin{equation}\n",
    "x_1  \\sim runif(0,1)\n",
    "\\end{equation}\n",
    "\\begin{equation}\n",
    "x_2 \\sim runif(0,1)\n",
    "\\end{equation}\n",
    "\\begin{equation}\n",
    "e_1 \\sim rnorm(0,1)\n",
    "\\end{equation}\n",
    "\\begin{equation}\n",
    "e_2 \\sim rnorm(0,1)\n",
    "\\end{equation}\n",
    "\\begin{equation}\n",
    "t \\sim rbinom(.5)\n",
    "\\end{equation}\n",
    "\n",
    "\\begin{equation}\n",
    "revenue = x_1*t + e_1\n",
    "\\end{equation}\n",
    "\\begin{equation}\n",
    "costs = x_2*t + e_2\n",
    "\\end{equation}\n",
    "\\begin{equation}\n",
    "profit = revenue - costs\n",
    "\\end{equation}\n",
    "\n",
    "(In this problem we are interested in only the response variable $profit$)"
   ]
  },
  {
   "cell_type": "code",
   "execution_count": 3,
   "metadata": {},
   "outputs": [],
   "source": [
    "y, x, t = get_simple_uplift_data(10000)\n",
    "\n",
    "y = pd.DataFrame(y)\n",
    "y.columns = ['revenue','cost', 'noise']\n",
    "y['profit'] = y['revenue'] - y['cost']"
   ]
  },
  {
   "cell_type": "markdown",
   "metadata": {},
   "source": [
    "### Model Building / Gridsearch\n",
    "After instantiating the MRUplift class the `.fit` function will build the model. It first seperates the data into a train / test split and builds standard scaler transformerd on all variables $x, y, t$.\n",
    "\n",
    "Then it builds and runs grisdesarch using neural network model that minimizes the mean squared error of the form $y = f(t,x)$. The user can input a custom parameter grid. \n"
   ]
  },
  {
   "cell_type": "code",
   "execution_count": 4,
   "metadata": {
    "scrolled": true
   },
   "outputs": [],
   "source": [
    "uplift_model = MRUplift()\n",
    "param_grid = dict(num_nodes=[8], dropout=[.1, .5], activation=[\n",
    "                          'relu'], num_layers=[1, 2], epochs=[25], batch_size=[30])\n",
    "\n",
    "\n",
    "uplift_model.fit(x, y[['profit']], t.reshape(-1,1), param_grid = param_grid, n_jobs = 1)"
   ]
  },
  {
   "cell_type": "markdown",
   "metadata": {},
   "source": [
    "### Expected Response Under Proposed Treatments (ERUPT) Metric\n",
    "\n",
    "After gridsearching we want to know how much better the model is than the current state. Evaluating the out-of-sample importance is key to ensure the model will perform as intended in production. While there are other metrics such as the Qini metric they are usually limited to single treatment case. ERUPT is the only metric I'm aware of that can be applied to multiple treatments and provides an unbiased estimate what would happen if the model were applied.\n",
    "\n",
    "#### ERUPT\n",
    "Suppose you have an observation where 𝜋(x) proposes a treatment of not giving bonus and the randomly assigned treatment was given a bonus. Since these do not align it’s not clear we can say anything about it.\n",
    "\n",
    "However, if the optimal treatment for a model is equal to the assigned treatment we can include that observation in our proposed treatment examples. We go through this exercise for all observations and calculate the response mean for only those where the 𝜋(x) = assigned treatment. This is our estimated value of y under the model! Mathematically it is:\n",
    "\n",
    "$$\\frac{\\sum_i y_i I(\\pi(x_i) = t_i)} {\\sum_i I(\\pi(x_i)=t_i)}$$\n",
    "\n",
    "Note that this formula assumes the treatments distirbution is uniform (same number for each treatment) and randomly assigned. The functionality in this package does not require uniform treatments but does require them to be randomly assigned.\n",
    "\n",
    "For further information please my blog post [here](https://medium.com/building-ibotta/erupt-expected-response-under-proposed-treatments-ff7dd45c84b4)."
   ]
  },
  {
   "cell_type": "markdown",
   "metadata": {},
   "source": [
    "### Evaluating Model with out-of-sample ERUPT metric\n",
    "Using the test dataset MRUplift will then evaluate the model using the ERUPT metric. This functionality gives the model builder insight into whether or not the model performs well out of sample. \n",
    "\n",
    "It outputs two dataframes:\n",
    "\n",
    "1) The first dataframe shows the ERUPT metric and standard deviation for the model assignment. In this example it tells us the expected profit if we were to use this model. In addition we can also see a 'random' row under the assignment column. This uses the same distribution as $\\pi(x)$ but shuffles the treatments so as to make it a random assignment. Looking at the difference between the Model and Random assignments should tell us if the model is learning the individual treatment effects well. \n",
    "\n",
    "Below we can see that the model performs much better than the randomized treatments suggesting the model learned the heterogenity of the treatment effects well. If we deployed the model we expect to see profit to be ~ 0.16.\n",
    "\n",
    "2) The dataframe shows the distribution of treatments under the optimal assignment. In this example we can see about half are assigned the treatment and half are not. \n",
    "\n",
    "\n"
   ]
  },
  {
   "cell_type": "code",
   "execution_count": 5,
   "metadata": {},
   "outputs": [
    {
     "name": "stdout",
     "output_type": "stream",
     "text": [
      "Using Test Data Set\n"
     ]
    },
    {
     "data": {
      "text/html": [
       "<div>\n",
       "<style scoped>\n",
       "    .dataframe tbody tr th:only-of-type {\n",
       "        vertical-align: middle;\n",
       "    }\n",
       "\n",
       "    .dataframe tbody tr th {\n",
       "        vertical-align: top;\n",
       "    }\n",
       "\n",
       "    .dataframe thead th {\n",
       "        text-align: right;\n",
       "    }\n",
       "</style>\n",
       "<table border=\"1\" class=\"dataframe\">\n",
       "  <thead>\n",
       "    <tr style=\"text-align: right;\">\n",
       "      <th></th>\n",
       "      <th>mean</th>\n",
       "      <th>std</th>\n",
       "      <th>response_var_names</th>\n",
       "      <th>weights</th>\n",
       "      <th>assignment</th>\n",
       "      <th>treatment</th>\n",
       "    </tr>\n",
       "  </thead>\n",
       "  <tbody>\n",
       "    <tr>\n",
       "      <th>0</th>\n",
       "      <td>0.161196</td>\n",
       "      <td>0.004519</td>\n",
       "      <td>profit</td>\n",
       "      <td>1</td>\n",
       "      <td>model</td>\n",
       "      <td>-1</td>\n",
       "    </tr>\n",
       "    <tr>\n",
       "      <th>0</th>\n",
       "      <td>0.002681</td>\n",
       "      <td>0.005420</td>\n",
       "      <td>profit</td>\n",
       "      <td>1</td>\n",
       "      <td>random</td>\n",
       "      <td>-1</td>\n",
       "    </tr>\n",
       "    <tr>\n",
       "      <th>0</th>\n",
       "      <td>-0.002317</td>\n",
       "      <td>0.002408</td>\n",
       "      <td>profit</td>\n",
       "      <td>-1</td>\n",
       "      <td>ate</td>\n",
       "      <td>0.0</td>\n",
       "    </tr>\n",
       "    <tr>\n",
       "      <th>0</th>\n",
       "      <td>0.001036</td>\n",
       "      <td>0.007196</td>\n",
       "      <td>profit</td>\n",
       "      <td>-1</td>\n",
       "      <td>ate</td>\n",
       "      <td>1.0</td>\n",
       "    </tr>\n",
       "  </tbody>\n",
       "</table>\n",
       "</div>"
      ],
      "text/plain": [
       "       mean       std response_var_names weights assignment treatment\n",
       "0  0.161196  0.004519             profit       1      model        -1\n",
       "0  0.002681  0.005420             profit       1     random        -1\n",
       "0 -0.002317  0.002408             profit      -1        ate       0.0\n",
       "0  0.001036  0.007196             profit      -1        ate       1.0"
      ]
     },
     "execution_count": 5,
     "metadata": {},
     "output_type": "execute_result"
    }
   ],
   "source": [
    "erupt_curves, dists = uplift_model.get_erupt_curves()\n",
    "erupt_curves"
   ]
  },
  {
   "cell_type": "code",
   "execution_count": 6,
   "metadata": {},
   "outputs": [
    {
     "data": {
      "text/html": [
       "<div>\n",
       "<style scoped>\n",
       "    .dataframe tbody tr th:only-of-type {\n",
       "        vertical-align: middle;\n",
       "    }\n",
       "\n",
       "    .dataframe tbody tr th {\n",
       "        vertical-align: top;\n",
       "    }\n",
       "\n",
       "    .dataframe thead th {\n",
       "        text-align: right;\n",
       "    }\n",
       "</style>\n",
       "<table border=\"1\" class=\"dataframe\">\n",
       "  <thead>\n",
       "    <tr style=\"text-align: right;\">\n",
       "      <th></th>\n",
       "      <th>num_observations</th>\n",
       "      <th>tmt</th>\n",
       "      <th>weights</th>\n",
       "      <th>percent_tmt</th>\n",
       "    </tr>\n",
       "  </thead>\n",
       "  <tbody>\n",
       "    <tr>\n",
       "      <th>0</th>\n",
       "      <td>3519</td>\n",
       "      <td>1.0</td>\n",
       "      <td>1</td>\n",
       "      <td>0.502714</td>\n",
       "    </tr>\n",
       "    <tr>\n",
       "      <th>1</th>\n",
       "      <td>3481</td>\n",
       "      <td>0.0</td>\n",
       "      <td>1</td>\n",
       "      <td>0.497286</td>\n",
       "    </tr>\n",
       "  </tbody>\n",
       "</table>\n",
       "</div>"
      ],
      "text/plain": [
       "   num_observations  tmt weights  percent_tmt\n",
       "0              3519  1.0       1     0.502714\n",
       "1              3481  0.0       1     0.497286"
      ]
     },
     "execution_count": 6,
     "metadata": {},
     "output_type": "execute_result"
    }
   ],
   "source": [
    "dists"
   ]
  },
  {
   "cell_type": "markdown",
   "metadata": {},
   "source": [
    "### Assigning Optimal Treatments for New Observations\n",
    "After building and evaluating an uplift model the modeler may deem it worthy of production. To assign new users the optimal treatment one can use the `predict_optimal_treatments` function as shown below.\n",
    "\n"
   ]
  },
  {
   "cell_type": "code",
   "execution_count": 6,
   "metadata": {},
   "outputs": [
    {
     "name": "stderr",
     "output_type": "stream",
     "text": [
      "/Users/samweiss/anaconda3/lib/python3.6/site-packages/sklearn/utils/validation.py:475: DataConversionWarning: Data with input dtype int64 was converted to float64 by StandardScaler.\n",
      "  warnings.warn(msg, DataConversionWarning)\n"
     ]
    },
    {
     "data": {
      "text/plain": [
       "array([[0],\n",
       "       [1],\n",
       "       [0],\n",
       "       [1],\n",
       "       [0]])"
      ]
     },
     "execution_count": 6,
     "metadata": {},
     "output_type": "execute_result"
    }
   ],
   "source": [
    "#generate 5 new observation\n",
    "_, x_new ,_  = get_simple_uplift_data(5)\n",
    "uplift_model.predict_optimal_treatments(x_new)"
   ]
  }
 ],
 "metadata": {
  "kernelspec": {
   "display_name": "Python 3",
   "language": "python",
   "name": "python3"
  },
  "language_info": {
   "codemirror_mode": {
    "name": "ipython",
    "version": 3
   },
   "file_extension": ".py",
   "mimetype": "text/x-python",
   "name": "python",
   "nbconvert_exporter": "python",
   "pygments_lexer": "ipython3",
   "version": "3.8.6"
  }
 },
 "nbformat": 4,
 "nbformat_minor": 2
}
