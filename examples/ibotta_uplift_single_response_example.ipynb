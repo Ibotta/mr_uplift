{
 "cells": [
  {
   "cell_type": "code",
   "execution_count": 2,
   "metadata": {},
   "outputs": [
    {
     "name": "stdout",
     "output_type": "stream",
     "text": [
      "/Users/samweiss/src/ibotta_uplift\n"
     ]
    }
   ],
   "source": [
    "cd ..\n"
   ]
  },
  {
   "cell_type": "markdown",
   "metadata": {},
   "source": [
    "## Introduction \n",
    "\n",
    "This notebook will go over optimization of a single response variable using the IbottaUplift Framework. It will go over:\n",
    "\n",
    "1. The data generating Process\n",
    "\n",
    "2. Building / Gridsearching an uplift model \n",
    "\n",
    "3. Evaluating Model with out-of-sample ERUPT metric\n",
    "\n",
    "4. Assigning Optimal Treatments for new observations "
   ]
  },
  {
   "cell_type": "code",
   "execution_count": 20,
   "metadata": {},
   "outputs": [],
   "source": [
    "import numpy as np\n",
    "import pandas as pd\n",
    "\n",
    "from dataset.data_simulation import get_simple_uplift_data\n",
    "from ibotta_uplift.ibotta_uplift import IbottaUplift\n",
    "from ggplot import *\n"
   ]
  },
  {
   "cell_type": "markdown",
   "metadata": {},
   "source": []
  },
  {
   "cell_type": "markdown",
   "metadata": {},
   "source": [
    "### Data Generating Process \n",
    "\n",
    "Imagine we are running a potentially costly marketing campaign to users. We are interested in maximizing profitibility. A user reacts to the treatment $t$ dependant on his covariates. Dependding on his covariates he will increase revenue and increase costs a varying degree.\n",
    "\n",
    "\n",
    "$$x_1  \\tilde {runif(0,1)}$$\n",
    "$$x_2 ~ runif(0,1)$$\n",
    "$$e_1 ~ rnorm(0,1)$$\n",
    "$$e_2 ~ rnorm(0,1)$$\n",
    "$$t~rbinom(.5)$$\n",
    "\n",
    "$$revenue = x_1*t + e_1$$\n",
    "$$costs = x_2*t + e_2$$\n",
    "\n",
    "$$profit = revenue - costs $$\n",
    "\n"
   ]
  },
  {
   "cell_type": "markdown",
   "metadata": {},
   "source": []
  },
  {
   "cell_type": "code",
   "execution_count": 21,
   "metadata": {
    "collapsed": true
   },
   "outputs": [],
   "source": [
    "y, x, t = get_simple_uplift_data(10000)\n",
    "\n",
    "y = pd.DataFrame(y)\n",
    "y.columns = ['revenue','cost', 'noise']\n",
    "y['profit'] = y['revenue'] - y['cost']"
   ]
  },
  {
   "cell_type": "markdown",
   "metadata": {},
   "source": [
    "### Model Building / Gridsearch\n",
    "After instantiating the IbottaUplift class the `.fit` function will build the model.\n",
    "\n",
    "This builds and runs grisdesarch for a keras neural network model minimizing mean squared error. The user can input customer parameters as necessary. \n",
    "\n",
    "This function will apply transformers to all variables $x,y, t$ so they are mean 0 and standard deviation 1 (I have found this useful to train nnets)."
   ]
  },
  {
   "cell_type": "code",
   "execution_count": 22,
   "metadata": {
    "scrolled": true
   },
   "outputs": [
    {
     "name": "stderr",
     "output_type": "stream",
     "text": [
      "/Users/samweiss/anaconda3/lib/python3.6/site-packages/sklearn/utils/validation.py:475: DataConversionWarning: Data with input dtype int64 was converted to float64 by StandardScaler.\n",
      "  warnings.warn(msg, DataConversionWarning)\n"
     ]
    }
   ],
   "source": [
    "uplift_model = IbottaUplift()\n",
    "param_grid = dict(num_nodes=[8], dropout=[.1, .5], activation=[\n",
    "                          'relu'], num_layers=[1, 2], epochs=[25], batch_size=[30])\n",
    "\n",
    "\n",
    "uplift_model.fit(x, y[['profit']], t.reshape(-1,1), param_grid = param_grid, n_jobs = 1)"
   ]
  },
  {
   "cell_type": "markdown",
   "metadata": {},
   "source": [
    "### Evaluating Model with out-of-sample ERUPT metric\n",
    "Using the test dataset IbottaUplift will then evaluate the model using the ERUPT metricThis . funcitonality gives the model builder insight into whether or not the model performs well out of sample. \n",
    "\n",
    "It outputs two dataframes:\n",
    "\n",
    "1) The first show the ERUPT metric and standard deviation for the model assignment. In this example it tells us the expected profit if we were to use this model. In addition we can also see a 'random' row under the assignment column. This uses the same distribution for ERUPT but shuffles the treatments so as to make it a random assignment. \n",
    "\n",
    "Below we can see that the model performs much better than the randomized treatments suggesting the model learned the heterogenity of the treatment effects well.\n",
    "\n",
    "2) The second pandas df shows the distribution of treatments under the optimal assignment. In this example we can see about half are assigned the treatment and half are not. \n",
    "\n",
    "\n"
   ]
  },
  {
   "cell_type": "code",
   "execution_count": 23,
   "metadata": {},
   "outputs": [
    {
     "name": "stderr",
     "output_type": "stream",
     "text": [
      "/Users/samweiss/anaconda3/lib/python3.6/site-packages/sklearn/utils/validation.py:475: DataConversionWarning: Data with input dtype int64 was converted to float64 by StandardScaler.\n",
      "  warnings.warn(msg, DataConversionWarning)\n"
     ]
    },
    {
     "data": {
      "text/html": [
       "<div>\n",
       "<style scoped>\n",
       "    .dataframe tbody tr th:only-of-type {\n",
       "        vertical-align: middle;\n",
       "    }\n",
       "\n",
       "    .dataframe tbody tr th {\n",
       "        vertical-align: top;\n",
       "    }\n",
       "\n",
       "    .dataframe thead th {\n",
       "        text-align: right;\n",
       "    }\n",
       "</style>\n",
       "<table border=\"1\" class=\"dataframe\">\n",
       "  <thead>\n",
       "    <tr style=\"text-align: right;\">\n",
       "      <th></th>\n",
       "      <th>mean</th>\n",
       "      <th>std</th>\n",
       "      <th>response_var_names</th>\n",
       "      <th>weights</th>\n",
       "      <th>assignment</th>\n",
       "    </tr>\n",
       "  </thead>\n",
       "  <tbody>\n",
       "    <tr>\n",
       "      <th>0</th>\n",
       "      <td>0.16116</td>\n",
       "      <td>0.004676</td>\n",
       "      <td>profit</td>\n",
       "      <td>1</td>\n",
       "      <td>model</td>\n",
       "    </tr>\n",
       "    <tr>\n",
       "      <th>0</th>\n",
       "      <td>-0.00052</td>\n",
       "      <td>0.005282</td>\n",
       "      <td>profit</td>\n",
       "      <td>1</td>\n",
       "      <td>random</td>\n",
       "    </tr>\n",
       "  </tbody>\n",
       "</table>\n",
       "</div>"
      ],
      "text/plain": [
       "      mean       std response_var_names weights assignment\n",
       "0  0.16116  0.004676             profit       1      model\n",
       "0 -0.00052  0.005282             profit       1     random"
      ]
     },
     "execution_count": 23,
     "metadata": {},
     "output_type": "execute_result"
    }
   ],
   "source": [
    "erupt_curves, dists = uplift_model.get_erupt_curves()\n",
    "erupt_curves"
   ]
  },
  {
   "cell_type": "code",
   "execution_count": 24,
   "metadata": {},
   "outputs": [
    {
     "data": {
      "text/html": [
       "<div>\n",
       "<style scoped>\n",
       "    .dataframe tbody tr th:only-of-type {\n",
       "        vertical-align: middle;\n",
       "    }\n",
       "\n",
       "    .dataframe tbody tr th {\n",
       "        vertical-align: top;\n",
       "    }\n",
       "\n",
       "    .dataframe thead th {\n",
       "        text-align: right;\n",
       "    }\n",
       "</style>\n",
       "<table border=\"1\" class=\"dataframe\">\n",
       "  <thead>\n",
       "    <tr style=\"text-align: right;\">\n",
       "      <th></th>\n",
       "      <th>num_observations</th>\n",
       "      <th>tmt</th>\n",
       "      <th>weights</th>\n",
       "      <th>percent_tmt</th>\n",
       "    </tr>\n",
       "  </thead>\n",
       "  <tbody>\n",
       "    <tr>\n",
       "      <th>0</th>\n",
       "      <td>3809</td>\n",
       "      <td>0</td>\n",
       "      <td>1</td>\n",
       "      <td>0.544143</td>\n",
       "    </tr>\n",
       "    <tr>\n",
       "      <th>1</th>\n",
       "      <td>3191</td>\n",
       "      <td>1</td>\n",
       "      <td>1</td>\n",
       "      <td>0.455857</td>\n",
       "    </tr>\n",
       "  </tbody>\n",
       "</table>\n",
       "</div>"
      ],
      "text/plain": [
       "   num_observations  tmt weights  percent_tmt\n",
       "0              3809    0       1     0.544143\n",
       "1              3191    1       1     0.455857"
      ]
     },
     "execution_count": 24,
     "metadata": {},
     "output_type": "execute_result"
    }
   ],
   "source": [
    "dists"
   ]
  },
  {
   "cell_type": "markdown",
   "metadata": {},
   "source": [
    "### Assigning Optimal Treatments for new observations\n",
    "After building and evaluating an uplift model the modeller may deem it worthy of production. To assign new users the optimal treatment one can use the `predict_optimal_treatments` function to do so below.\n",
    "\n"
   ]
  },
  {
   "cell_type": "code",
   "execution_count": 25,
   "metadata": {},
   "outputs": [
    {
     "name": "stderr",
     "output_type": "stream",
     "text": [
      "/Users/samweiss/anaconda3/lib/python3.6/site-packages/sklearn/utils/validation.py:475: DataConversionWarning: Data with input dtype int64 was converted to float64 by StandardScaler.\n",
      "  warnings.warn(msg, DataConversionWarning)\n"
     ]
    },
    {
     "data": {
      "text/plain": [
       "array([[0],\n",
       "       [0],\n",
       "       [0],\n",
       "       [0],\n",
       "       [1]])"
      ]
     },
     "execution_count": 25,
     "metadata": {},
     "output_type": "execute_result"
    }
   ],
   "source": [
    "#generate 5 new observation\n",
    "_, x_new ,_  = get_simple_uplift_data(5)\n",
    "uplift_model.predict_optimal_treatments(x_new)"
   ]
  },
  {
   "cell_type": "code",
   "execution_count": 11,
   "metadata": {},
   "outputs": [
    {
     "data": {
      "text/plain": [
       "0.9998957938535137"
      ]
     },
     "execution_count": 11,
     "metadata": {},
     "output_type": "execute_result"
    }
   ],
   "source": []
  },
  {
   "cell_type": "code",
   "execution_count": 8,
   "metadata": {},
   "outputs": [
    {
     "name": "stderr",
     "output_type": "stream",
     "text": [
      "/Users/samweiss/anaconda3/lib/python3.6/site-packages/sklearn/utils/validation.py:475: DataConversionWarning: Data with input dtype int64 was converted to float64 by StandardScaler.\n",
      "  warnings.warn(msg, DataConversionWarning)\n"
     ]
    },
    {
     "data": {
      "text/html": [
       "<div>\n",
       "<style scoped>\n",
       "    .dataframe tbody tr th:only-of-type {\n",
       "        vertical-align: middle;\n",
       "    }\n",
       "\n",
       "    .dataframe tbody tr th {\n",
       "        vertical-align: top;\n",
       "    }\n",
       "\n",
       "    .dataframe thead th {\n",
       "        text-align: right;\n",
       "    }\n",
       "</style>\n",
       "<table border=\"1\" class=\"dataframe\">\n",
       "  <thead>\n",
       "    <tr style=\"text-align: right;\">\n",
       "      <th></th>\n",
       "      <th>mean</th>\n",
       "      <th>std</th>\n",
       "      <th>response_var_names</th>\n",
       "      <th>weights</th>\n",
       "      <th>assignment</th>\n",
       "    </tr>\n",
       "  </thead>\n",
       "  <tbody>\n",
       "    <tr>\n",
       "      <th>0</th>\n",
       "      <td>0.153304</td>\n",
       "      <td>0.004541</td>\n",
       "      <td>profit</td>\n",
       "      <td>1</td>\n",
       "      <td>model</td>\n",
       "    </tr>\n",
       "    <tr>\n",
       "      <th>0</th>\n",
       "      <td>-0.004520</td>\n",
       "      <td>0.004905</td>\n",
       "      <td>profit</td>\n",
       "      <td>1</td>\n",
       "      <td>random</td>\n",
       "    </tr>\n",
       "  </tbody>\n",
       "</table>\n",
       "</div>"
      ],
      "text/plain": [
       "       mean       std response_var_names weights assignment\n",
       "0  0.153304  0.004541             profit       1      model\n",
       "0 -0.004520  0.004905             profit       1     random"
      ]
     },
     "execution_count": 8,
     "metadata": {},
     "output_type": "execute_result"
    }
   ],
   "source": [
    "uplift_model.calibrate()\n",
    "erupt_curves1, dists1 = uplift_model.get_erupt_curves(calibrator = True)\n",
    "erupt_curves1"
   ]
  },
  {
   "cell_type": "code",
   "execution_count": null,
   "metadata": {
    "collapsed": true
   },
   "outputs": [],
   "source": [
    "dists['weights_1'] = [np.float(x.split(',')[0]) for x in dists['weights']]\n",
    "erupt_curves['weights_1'] = [np.float(x.split(',')[0]) for x in erupt_curves['weights']]\n",
    "ggplot(aes(x='weights_1', y='mean', group = 'assignment', colour = 'assignment'), data=erupt_curves) +\\\n",
    "    geom_line()+\\\n",
    "    geom_point()+facet_grid(\"response_var_names\")"
   ]
  },
  {
   "cell_type": "code",
   "execution_count": null,
   "metadata": {
    "collapsed": true
   },
   "outputs": [],
   "source": [
    "ggplot(aes(x='weights_1', y='num_observations'), data=dists) +\\\n",
    "    geom_line()+\\\n",
    "    geom_point()+facet_wrap('tmt')"
   ]
  },
  {
   "cell_type": "code",
   "execution_count": null,
   "metadata": {
    "collapsed": true
   },
   "outputs": [],
   "source": [
    "uplift_model.calibrate()\n"
   ]
  },
  {
   "cell_type": "code",
   "execution_count": null,
   "metadata": {
    "collapsed": true
   },
   "outputs": [],
   "source": [
    "erupt_curves, dists = uplift_model.get_erupt_curves(calibrator = True)\n",
    "dists['weights_1'] = [np.float(x.split(',')[0]) for x in dists['weights']]\n",
    "erupt_curves['weights_1'] = [np.float(x.split(',')[0]) for x in erupt_curves['weights']]\n",
    "ggplot(aes(x='weights_1', y='mean', group = 'assignment', colour = 'assignment'), data=erupt_curves) +\\\n",
    "    geom_line()+\\\n",
    "    geom_point()+facet_wrap(\"response_var_names\")"
   ]
  },
  {
   "cell_type": "code",
   "execution_count": null,
   "metadata": {
    "collapsed": true
   },
   "outputs": [],
   "source": [
    "test  = uplift_model.copy()\n",
    "test.x.shape\n"
   ]
  },
  {
   "cell_type": "code",
   "execution_count": null,
   "metadata": {
    "collapsed": true
   },
   "outputs": [],
   "source": [
    "uplift_model.save('/users/samweiss/temp')"
   ]
  },
  {
   "cell_type": "code",
   "execution_count": null,
   "metadata": {
    "collapsed": true
   },
   "outputs": [],
   "source": [
    "test = IbottaUplift()\n",
    "test.load('/users/samweiss/')\n",
    "test"
   ]
  },
  {
   "cell_type": "code",
   "execution_count": null,
   "metadata": {
    "collapsed": true
   },
   "outputs": [],
   "source": [
    "test.x"
   ]
  },
  {
   "cell_type": "code",
   "execution_count": null,
   "metadata": {
    "collapsed": true
   },
   "outputs": [],
   "source": []
  },
  {
   "cell_type": "code",
   "execution_count": null,
   "metadata": {
    "collapsed": true
   },
   "outputs": [],
   "source": [
    "uplift_model.copy().model == uplift_model.model"
   ]
  },
  {
   "cell_type": "code",
   "execution_count": null,
   "metadata": {
    "collapsed": true
   },
   "outputs": [],
   "source": [
    "import copy\n",
    "test_copy = copy.copy(uplift_model)\n"
   ]
  },
  {
   "cell_type": "code",
   "execution_count": null,
   "metadata": {
    "collapsed": true
   },
   "outputs": [],
   "source": [
    "class test_class(object):\n",
    "    def fit(self, x):\n",
    "        self.x = x\n",
    "test = test_class()\n",
    "test.fit(1)\n",
    "test.x\n",
    "\n",
    "\n",
    "import dill\n",
    "dill.dump(test, file = open('/users/samweiss/downloads/test_load.pkl', \"wb\"))\n",
    "test_load = dill.load(open('/users/samweiss/downloads/test_load.pkl', \"rb\"))\n",
    "test_load.x"
   ]
  },
  {
   "cell_type": "code",
   "execution_count": null,
   "metadata": {
    "collapsed": true
   },
   "outputs": [],
   "source": [
    "import dill\n",
    "dill.dump(test, file = open('/users/samweiss/downloads/test_load.pkl', \"wb\"))\n",
    "test_load = dill.load(open('/users/samweiss/downloads/test_load.pkl', \"rb\"))\n",
    "test_load.x"
   ]
  },
  {
   "cell_type": "code",
   "execution_count": null,
   "metadata": {
    "collapsed": true
   },
   "outputs": [],
   "source": [
    "erupt_curves, dists = uplift_model.get_erupt_curves(objective_weights = np.array([1,0,0,0]).reshape(1,-1))"
   ]
  },
  {
   "cell_type": "code",
   "execution_count": null,
   "metadata": {
    "collapsed": true
   },
   "outputs": [],
   "source": [
    "erupt_curves"
   ]
  },
  {
   "cell_type": "code",
   "execution_count": null,
   "metadata": {
    "collapsed": true
   },
   "outputs": [],
   "source": []
  }
 ],
 "metadata": {
  "kernelspec": {
   "display_name": "Python 3",
   "language": "python",
   "name": "python3"
  },
  "language_info": {
   "codemirror_mode": {
    "name": "ipython",
    "version": 3
   },
   "file_extension": ".py",
   "mimetype": "text/x-python",
   "name": "python",
   "nbconvert_exporter": "python",
   "pygments_lexer": "ipython3",
   "version": "3.6.3"
  }
 },
 "nbformat": 4,
 "nbformat_minor": 2
}
